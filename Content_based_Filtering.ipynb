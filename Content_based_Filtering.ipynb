{
  "metadata": {
    "language_info": {
      "name": "python",
      "version": "3.6.6",
      "mimetype": "text/x-python",
      "codemirror_mode": {
        "name": "ipython",
        "version": 3
      },
      "pygments_lexer": "ipython3",
      "nbconvert_exporter": "python",
      "file_extension": ".py"
    },
    "kernelspec": {
      "display_name": "Python 3",
      "name": "python3",
      "language": "python"
    },
    "colab": {
      "provenance": []
    }
  },
  "nbformat_minor": 0,
  "nbformat": 4,
  "cells": [
    {
      "cell_type": "code",
      "source": [
        "import numpy as np\n",
        "import scipy\n",
        "import pandas as pd\n",
        "import math\n",
        "import random\n",
        "import sklearn\n",
        "from nltk.corpus import stopwords\n",
        "import nltk\n",
        "from langdetect import detect\n",
        "\n",
        "from scipy.sparse import csr_matrix\n",
        "from sklearn.model_selection import train_test_split\n",
        "from sklearn.feature_extraction.text import TfidfVectorizer\n",
        "from sklearn.metrics.pairwise import cosine_similarity\n",
        "from scipy.sparse.linalg import svds\n",
        "from sklearn.preprocessing import MinMaxScaler\n",
        "import matplotlib.pyplot as plt"
      ],
      "metadata": {
        "_cell_guid": "719f3966-e6fd-49c8-9f60-7bd741542450",
        "_uuid": "b61cd3125a7f8f991fc1bda85ae3cd26f74090ae",
        "execution": {
          "iopub.status.busy": "2023-01-08T14:36:52.743379Z",
          "iopub.execute_input": "2023-01-08T14:36:52.743683Z",
          "iopub.status.idle": "2023-01-08T14:36:57.936221Z",
          "shell.execute_reply.started": "2023-01-08T14:36:52.743627Z",
          "shell.execute_reply": "2023-01-08T14:36:57.935319Z"
        },
        "trusted": true,
        "id": "dJj7zLcn-Ci9"
      },
      "execution_count": null,
      "outputs": []
    },
    {
      "cell_type": "code",
      "source": [
        "crawled_courses_information = pd.read_csv(\"/kaggle/input/crawled-courses-information/crawled_courses_information (1).csv\")\n",
        "crawled_courses_information.head(5)"
      ],
      "metadata": {
        "execution": {
          "iopub.status.busy": "2023-01-08T15:13:58.326461Z",
          "iopub.execute_input": "2023-01-08T15:13:58.326803Z",
          "iopub.status.idle": "2023-01-08T15:13:58.487261Z",
          "shell.execute_reply.started": "2023-01-08T15:13:58.326745Z",
          "shell.execute_reply": "2023-01-08T15:13:58.486273Z"
        },
        "trusted": true,
        "id": "LarTlVM0-CjC"
      },
      "execution_count": null,
      "outputs": []
    },
    {
      "cell_type": "code",
      "source": [
        "courses_review= pd.read_csv('/kaggle/input/course-reviews-on-coursera/Coursera_reviews.csv')\n",
        "all_courses = pd.read_csv('/kaggle/input/course-reviews-on-coursera/Coursera_courses.csv')"
      ],
      "metadata": {
        "execution": {
          "iopub.status.busy": "2023-01-08T14:37:13.538920Z",
          "iopub.execute_input": "2023-01-08T14:37:13.539269Z",
          "iopub.status.idle": "2023-01-08T14:37:19.730774Z",
          "shell.execute_reply.started": "2023-01-08T14:37:13.539209Z",
          "shell.execute_reply": "2023-01-08T14:37:19.729793Z"
        },
        "trusted": true,
        "id": "CXoGj4u8-CjD"
      },
      "execution_count": null,
      "outputs": []
    },
    {
      "cell_type": "code",
      "source": [
        "all_courses.drop('name', axis = 1, inplace = True)\n",
        "all_courses"
      ],
      "metadata": {
        "execution": {
          "iopub.status.busy": "2023-01-08T14:37:19.734961Z",
          "iopub.execute_input": "2023-01-08T14:37:19.735270Z",
          "iopub.status.idle": "2023-01-08T14:37:19.757631Z",
          "shell.execute_reply.started": "2023-01-08T14:37:19.735216Z",
          "shell.execute_reply": "2023-01-08T14:37:19.756404Z"
        },
        "trusted": true,
        "id": "0MfQCY_O-CjE"
      },
      "execution_count": null,
      "outputs": []
    },
    {
      "cell_type": "code",
      "source": [
        "crawled_courses_information.drop(['rating', 'views', 'raters', 'enrollment'], axis = 1, inplace = True)\n",
        "crawled_courses_information"
      ],
      "metadata": {
        "execution": {
          "iopub.status.busy": "2023-01-08T15:14:03.803441Z",
          "iopub.execute_input": "2023-01-08T15:14:03.804032Z",
          "iopub.status.idle": "2023-01-08T15:14:03.840381Z",
          "shell.execute_reply.started": "2023-01-08T15:14:03.803795Z",
          "shell.execute_reply": "2023-01-08T15:14:03.839199Z"
        },
        "trusted": true,
        "id": "xdceYnfD-CjE"
      },
      "execution_count": null,
      "outputs": []
    },
    {
      "cell_type": "code",
      "source": [
        "courses = pd.merge(all_courses, crawled_courses_information, left_on = 'course_url', right_on = 'url')\n",
        "courses.drop('url', axis = 1, inplace = True)\n",
        "courses"
      ],
      "metadata": {
        "execution": {
          "iopub.status.busy": "2023-01-08T14:37:19.783523Z",
          "iopub.execute_input": "2023-01-08T14:37:19.784017Z",
          "iopub.status.idle": "2023-01-08T14:37:19.823945Z",
          "shell.execute_reply.started": "2023-01-08T14:37:19.783817Z",
          "shell.execute_reply": "2023-01-08T14:37:19.823301Z"
        },
        "trusted": true,
        "id": "oLAC7S7O-CjF"
      },
      "execution_count": null,
      "outputs": []
    },
    {
      "cell_type": "code",
      "source": [
        "ratings = courses_review.drop_duplicates()\n",
        "data = pd.merge(ratings, courses)"
      ],
      "metadata": {
        "execution": {
          "iopub.status.busy": "2023-01-08T14:37:26.146635Z",
          "iopub.execute_input": "2023-01-08T14:37:26.146981Z",
          "iopub.status.idle": "2023-01-08T14:37:27.130223Z",
          "shell.execute_reply.started": "2023-01-08T14:37:26.146923Z",
          "shell.execute_reply": "2023-01-08T14:37:27.129167Z"
        },
        "trusted": true,
        "id": "dE-w98xb-CjF"
      },
      "execution_count": null,
      "outputs": []
    },
    {
      "cell_type": "code",
      "source": [
        "data = data[['reviewers','course_id','name','category','description','instructors','rating']]\n",
        "data.rename( columns = {'name':'Course Name', 'category': 'Course Category', 'description': 'Course Description', 'instructors': 'Course Instructors'}, inplace=True)"
      ],
      "metadata": {
        "execution": {
          "iopub.status.busy": "2023-01-08T14:37:40.120249Z",
          "iopub.execute_input": "2023-01-08T14:37:40.120608Z",
          "iopub.status.idle": "2023-01-08T14:37:40.456932Z",
          "shell.execute_reply.started": "2023-01-08T14:37:40.120547Z",
          "shell.execute_reply": "2023-01-08T14:37:40.455944Z"
        },
        "trusted": true,
        "id": "6c76Exyo-CjG"
      },
      "execution_count": null,
      "outputs": []
    },
    {
      "cell_type": "code",
      "source": [
        "data['Course Name'] = data['Course Name'].str.replace(' ',',')\n",
        "data['Course Name'] = data['Course Name'].str.replace(',,',',')\n",
        "data['Course Name'] = data['Course Name'].str.replace(':','')\n",
        "data['Course Description'] = data['Course Description'].str.replace(' ',',')\n",
        "data['Course Description'] = data['Course Description'].str.replace(',,',',')\n",
        "data['Course Description'] = data['Course Description'].str.replace('_','')\n",
        "data['Course Description'] = data['Course Description'].str.replace(':','')\n",
        "data['Course Description'] = data['Course Description'].str.replace('(','')\n",
        "data['Course Description'] = data['Course Description'].str.replace(')','')\n",
        "data['Course Description'] = data['Course Description'].str.replace('\\n\\n','')\n",
        "data['Course Category'] = data['Course Category'].str.replace(' ',',')\n",
        "data['Course Category'] = data['Course Category'].str.replace(',,',',')\n",
        "data['Course Category'] = data['Course Category'].str.replace('_','')\n",
        "data['Course Category'] = data['Course Category'].str.replace(':','')\n",
        "data['Course Category'] = data['Course Category'].str.replace('(','')\n",
        "data['Course Category'] = data['Course Category'].str.replace(')','')\n",
        "data['Course Category'] = data['Course Category'].str.replace('\\n\\n','')\n",
        "data['Course Instructors'] = data['Course Instructors'].str.replace(' ',',')\n",
        "data['Course Instructors'] = data['Course Instructors'].str.replace(',,',',')\n",
        "data['Course Instructors'] = data['Course Instructors'].str.replace('_','')\n",
        "data['Course Instructors'] = data['Course Instructors'].str.replace(':','')\n",
        "data['Course Instructors'] = data['Course Instructors'].str.replace('(','')\n",
        "data['Course Instructors'] = data['Course Instructors'].str.replace(')','')\n",
        "data['Course Instructors'] = data['Course Instructors'].str.replace('\\n\\n','')\n"
      ],
      "metadata": {
        "execution": {
          "iopub.status.busy": "2023-01-08T14:37:42.120025Z",
          "iopub.execute_input": "2023-01-08T14:37:42.120414Z",
          "iopub.status.idle": "2023-01-08T14:37:56.824455Z",
          "shell.execute_reply.started": "2023-01-08T14:37:42.120353Z",
          "shell.execute_reply": "2023-01-08T14:37:56.822933Z"
        },
        "trusted": true,
        "id": "uj9rZK4I-CjG"
      },
      "execution_count": null,
      "outputs": []
    },
    {
      "cell_type": "code",
      "source": [
        "data['tags'] = data['Course Name']+',' + data['Course Category'] +','+ data['Course Description'] + ','+data['Course Instructors']"
      ],
      "metadata": {
        "execution": {
          "iopub.status.busy": "2023-01-08T14:38:13.438889Z",
          "iopub.execute_input": "2023-01-08T14:38:13.439248Z",
          "iopub.status.idle": "2023-01-08T14:38:15.506095Z",
          "shell.execute_reply.started": "2023-01-08T14:38:13.439187Z",
          "shell.execute_reply": "2023-01-08T14:38:15.505053Z"
        },
        "trusted": true,
        "id": "VJ0gcNLQ-CjH"
      },
      "execution_count": null,
      "outputs": []
    },
    {
      "cell_type": "code",
      "source": [
        "#import label encoder\n",
        "\n",
        "from sklearn import preprocessing \n",
        "\n",
        "#make an instance of Label Encoder\n",
        "\n",
        "label_encoder = preprocessing.LabelEncoder()\n",
        "\n",
        "data['reviewers'] = label_encoder.fit_transform(data[['reviewers']])\n",
        "\n",
        "data['Course Name'] = label_encoder.fit_transform(data['Course Name'])"
      ],
      "metadata": {
        "execution": {
          "iopub.status.busy": "2022-12-19T16:22:29.082029Z",
          "iopub.execute_input": "2022-12-19T16:22:29.082341Z",
          "iopub.status.idle": "2022-12-19T16:22:30.039496Z",
          "shell.execute_reply.started": "2022-12-19T16:22:29.082288Z",
          "shell.execute_reply": "2022-12-19T16:22:30.038606Z"
        },
        "trusted": true,
        "id": "AkyThvN8-CjI"
      },
      "execution_count": null,
      "outputs": []
    },
    {
      "cell_type": "code",
      "source": [
        "#import label encoder\n",
        "\n",
        "from sklearn import preprocessing \n",
        "\n",
        "#make an instance of Label Encoder\n",
        "\n",
        "label_encoder = preprocessing.LabelEncoder()\n",
        "\n",
        "crawled_courses_information['name'] = label_encoder.fit_transform(crawled_courses_information['name'])"
      ],
      "metadata": {
        "execution": {
          "iopub.status.busy": "2022-12-02T15:43:34.684037Z",
          "iopub.execute_input": "2022-12-02T15:43:34.684362Z",
          "iopub.status.idle": "2022-12-02T15:43:34.704161Z",
          "shell.execute_reply.started": "2022-12-02T15:43:34.684303Z",
          "shell.execute_reply": "2022-12-02T15:43:34.703359Z"
        },
        "trusted": true,
        "id": "egz4kMol-CjJ"
      },
      "execution_count": null,
      "outputs": []
    },
    {
      "cell_type": "code",
      "source": [
        "new_df = data[['reviewers','Course Name','tags','rating']]\n",
        "new_df['tags'] = data['tags'].str.replace(',',' ')\n",
        "new_df['Course Name'] = data['Course Name'].str.replace(',',' ')\n",
        "new_df.rename(columns = {'Course Name':'course_name'}, inplace = True)\n",
        "new_df['tags'] = new_df['tags'].astype(str).apply(lambda x:x.lower()) #lower casing the tags column"
      ],
      "metadata": {
        "execution": {
          "iopub.status.busy": "2023-01-08T14:38:22.024247Z",
          "iopub.execute_input": "2023-01-08T14:38:22.024585Z",
          "iopub.status.idle": "2023-01-08T14:38:26.290989Z",
          "shell.execute_reply.started": "2023-01-08T14:38:22.024528Z",
          "shell.execute_reply": "2023-01-08T14:38:26.289827Z"
        },
        "trusted": true,
        "id": "2hDZzzf--CjJ"
      },
      "execution_count": null,
      "outputs": []
    },
    {
      "cell_type": "code",
      "source": [
        "new_df['detect'] = new_df['tags'].apply(detect)"
      ],
      "metadata": {
        "execution": {
          "iopub.status.busy": "2022-11-27T18:57:59.501172Z",
          "iopub.execute_input": "2022-11-27T18:57:59.501527Z",
          "iopub.status.idle": "2022-11-27T20:07:12.885711Z",
          "shell.execute_reply.started": "2022-11-27T18:57:59.501470Z",
          "shell.execute_reply": "2022-11-27T20:07:12.884819Z"
        },
        "trusted": true,
        "id": "piIWeIX4-CjJ"
      },
      "execution_count": null,
      "outputs": []
    },
    {
      "cell_type": "code",
      "source": [
        "new_df = new_df[new_df['detect'] == 'en']"
      ],
      "metadata": {
        "execution": {
          "iopub.status.busy": "2022-12-02T15:44:40.595438Z",
          "iopub.execute_input": "2022-12-02T15:44:40.595776Z",
          "iopub.status.idle": "2022-12-02T15:44:40.637030Z",
          "shell.execute_reply.started": "2022-12-02T15:44:40.595723Z",
          "shell.execute_reply": "2022-12-02T15:44:40.636346Z"
        },
        "trusted": true,
        "id": "aRAM9ahP-CjK"
      },
      "execution_count": null,
      "outputs": []
    },
    {
      "cell_type": "code",
      "source": [
        "new_df['tags'].str.replace('\\<.*$', '').iloc[2]"
      ],
      "metadata": {
        "execution": {
          "iopub.status.busy": "2023-01-08T14:38:33.402678Z",
          "iopub.execute_input": "2023-01-08T14:38:33.403009Z",
          "iopub.status.idle": "2023-01-08T14:38:34.188327Z",
          "shell.execute_reply.started": "2023-01-08T14:38:33.402952Z",
          "shell.execute_reply": "2023-01-08T14:38:34.187237Z"
        },
        "trusted": true,
        "id": "6nze1fWM-CjK"
      },
      "execution_count": null,
      "outputs": []
    },
    {
      "cell_type": "code",
      "source": [
        "users_reviews_count_df = new_df.groupby(['reviewers', 'course_name']).size().groupby('reviewers').size()\n",
        "print('# users: %d' % len(users_reviews_count_df))\n",
        "users_with_enough_reviews_df = users_reviews_count_df[users_reviews_count_df >= 20].reset_index()[['reviewers']]\n",
        "print('# users with at least 20 interactions: %d' % len(users_with_enough_reviews_df))"
      ],
      "metadata": {
        "execution": {
          "iopub.status.busy": "2023-01-08T14:38:48.284261Z",
          "iopub.execute_input": "2023-01-08T14:38:48.284609Z",
          "iopub.status.idle": "2023-01-08T14:38:49.471188Z",
          "shell.execute_reply.started": "2023-01-08T14:38:48.284553Z",
          "shell.execute_reply": "2023-01-08T14:38:49.470288Z"
        },
        "trusted": true,
        "id": "GdTxIw7Z-CjK"
      },
      "execution_count": null,
      "outputs": []
    },
    {
      "cell_type": "code",
      "source": [
        "print('# of reviews: %d' % len(new_df))\n",
        "interactions_from_selected_users_df = new_df.merge(users_with_enough_reviews_df, \n",
        "               how = 'right',\n",
        "               left_on = 'reviewers',\n",
        "               right_on = 'reviewers')\n",
        "print('# of rating from users with at least 10 interactions: %d' % len(interactions_from_selected_users_df))"
      ],
      "metadata": {
        "execution": {
          "iopub.status.busy": "2023-01-08T14:38:53.330098Z",
          "iopub.execute_input": "2023-01-08T14:38:53.330503Z",
          "iopub.status.idle": "2023-01-08T14:38:53.515618Z",
          "shell.execute_reply.started": "2023-01-08T14:38:53.330439Z",
          "shell.execute_reply": "2023-01-08T14:38:53.514527Z"
        },
        "trusted": true,
        "id": "mfxOIGIq-CjL"
      },
      "execution_count": null,
      "outputs": []
    },
    {
      "cell_type": "code",
      "source": [
        "interactions_train_df, interactions_test_df = train_test_split(interactions_from_selected_users_df,\n",
        "                                   stratify=interactions_from_selected_users_df['reviewers'], \n",
        "                                   test_size=0.20)\n",
        "\n",
        "print('# interactions on Train set: %d' % len(interactions_train_df))\n",
        "print('# interactions on Test set: %d' % len(interactions_test_df))"
      ],
      "metadata": {
        "execution": {
          "iopub.status.busy": "2023-01-08T14:38:56.357191Z",
          "iopub.execute_input": "2023-01-08T14:38:56.357529Z",
          "iopub.status.idle": "2023-01-08T14:38:56.432929Z",
          "shell.execute_reply.started": "2023-01-08T14:38:56.357475Z",
          "shell.execute_reply": "2023-01-08T14:38:56.431669Z"
        },
        "trusted": true,
        "id": "Hok1VkSi-CjL"
      },
      "execution_count": null,
      "outputs": []
    },
    {
      "cell_type": "code",
      "source": [
        "interactions_full_indexed_df = interactions_from_selected_users_df.set_index('reviewers')\n",
        "interactions_train_indexed_df = interactions_train_df.set_index('reviewers')\n",
        "interactions_test_indexed_df = interactions_test_df.set_index('reviewers')"
      ],
      "metadata": {
        "execution": {
          "iopub.status.busy": "2023-01-08T14:38:58.963806Z",
          "iopub.execute_input": "2023-01-08T14:38:58.964401Z",
          "iopub.status.idle": "2023-01-08T14:38:58.985151Z",
          "shell.execute_reply.started": "2023-01-08T14:38:58.964097Z",
          "shell.execute_reply": "2023-01-08T14:38:58.984242Z"
        },
        "trusted": true,
        "id": "2d5EPs4l-CjM"
      },
      "execution_count": null,
      "outputs": []
    },
    {
      "cell_type": "code",
      "source": [
        "def get_items_interacted(person_id, new_df):\n",
        "    # Get the user's data and merge in the movie information.\n",
        "    interacted_items = new_df.loc[person_id]['course_name']\n",
        "    return set(interacted_items if type(interacted_items) == pd.Series else [interacted_items])"
      ],
      "metadata": {
        "_cell_guid": "3ee4bdf5-fcde-418f-accc-c51421a71d75",
        "_uuid": "4c008550d5312b45c1786407cce587eaf19b565c",
        "execution": {
          "iopub.status.busy": "2023-01-08T14:39:01.653555Z",
          "iopub.execute_input": "2023-01-08T14:39:01.653960Z",
          "iopub.status.idle": "2023-01-08T14:39:01.661599Z",
          "shell.execute_reply.started": "2023-01-08T14:39:01.653889Z",
          "shell.execute_reply": "2023-01-08T14:39:01.658547Z"
        },
        "trusted": true,
        "id": "x5VJ1Vp8-CjN"
      },
      "execution_count": null,
      "outputs": []
    },
    {
      "cell_type": "code",
      "source": [
        "#Top-N accuracy metrics consts\n",
        "EVAL_RANDOM_SAMPLE_NON_INTERACTED_ITEMS = 100\n",
        "\n",
        "class ModelEvaluator:\n",
        "\n",
        "\n",
        "    def get_not_interacted_items_sample(self, person_id, sample_size, seed=42):\n",
        "        interacted_items = get_items_interacted(person_id, interactions_full_indexed_df)\n",
        "        all_items = set(crawled_courses_information['name'])\n",
        "        non_interacted_items = all_items - interacted_items\n",
        "\n",
        "        random.seed(seed)\n",
        "        non_interacted_items_sample = random.sample(non_interacted_items, sample_size)\n",
        "        return set(non_interacted_items_sample)\n",
        "\n",
        "    def _verify_hit_top_n(self, item_id, recommended_items, topn):        \n",
        "            try:\n",
        "                index = next(i for i, c in enumerate(recommended_items) if c == item_id)\n",
        "            except:\n",
        "                index = -1\n",
        "            hit = int(index in range(0, topn))\n",
        "            return hit, index\n",
        "\n",
        "    def evaluate_model_for_user(self, model, person_id):\n",
        "        #Getting the items in test set\n",
        "        interacted_values_testset = interactions_test_indexed_df.loc[person_id]\n",
        "        if type(interacted_values_testset['course_name']) == pd.Series:\n",
        "            person_interacted_items_testset = set(interacted_values_testset['course_name'])\n",
        "        else:\n",
        "            person_interacted_items_testset = set([int(interacted_values_testset['course_name'])])  \n",
        "        interacted_items_count_testset = len(person_interacted_items_testset) \n",
        "\n",
        "        #Getting a ranked recommendation list from a model for a given user\n",
        "        person_recs_df = model.recommend_items(person_id, \n",
        "                                               items_to_ignore=get_items_interacted(person_id, \n",
        "                                                                                    interactions_train_indexed_df), \n",
        "                                               topn=10000000000)\n",
        "\n",
        "        hits_at_5_count = 0\n",
        "        hits_at_10_count = 0\n",
        "        #For each item the user has interacted in test set\n",
        "        for item_id in person_interacted_items_testset:\n",
        "            #Getting a random sample (100) items the user has not interacted \n",
        "            #(to represent items that are assumed to be no relevant to the user)\n",
        "            non_interacted_items_sample = self.get_not_interacted_items_sample(person_id, \n",
        "                                                                          sample_size=EVAL_RANDOM_SAMPLE_NON_INTERACTED_ITEMS, \n",
        "                                                                          seed=42)\n",
        "\n",
        "            #Combining the current interacted item with the 100 random items\n",
        "            items_to_filter_recs = non_interacted_items_sample.union(set([item_id]))\n",
        "\n",
        "            #Filtering only recommendations that are either the interacted item or from a random sample of 100 non-interacted items\n",
        "            valid_recs_df = person_recs_df[person_recs_df['course_name'].isin(items_to_filter_recs)]                    \n",
        "            valid_recs = valid_recs_df['course_name'].values\n",
        "            #Verifying if the current interacted item is among the Top-N recommended items\n",
        "            hit_at_5, index_at_5 = self._verify_hit_top_n(item_id, valid_recs, 5)\n",
        "            hits_at_5_count += hit_at_5\n",
        "            hit_at_10, index_at_10 = self._verify_hit_top_n(item_id, valid_recs, 10)\n",
        "            hits_at_10_count += hit_at_10\n",
        "\n",
        "        #Recall is the rate of the interacted items that are ranked among the Top-N recommended items, \n",
        "        #when mixed with a set of non-relevant items\n",
        "        recall_at_5 = hits_at_5_count / float(interacted_items_count_testset)\n",
        "        recall_at_10 = hits_at_10_count / float(interacted_items_count_testset)\n",
        "\n",
        "        person_metrics = {'hits@5_count':hits_at_5_count, \n",
        "                          'hits@10_count':hits_at_10_count, \n",
        "                          'interacted_count': interacted_items_count_testset,\n",
        "                          'recall@5': recall_at_5,\n",
        "                          'recall@10': recall_at_10}\n",
        "        return person_metrics\n",
        "\n",
        "    def evaluate_model(self, model):\n",
        "        #print('Running evaluation for users')\n",
        "        people_metrics = []\n",
        "        for idx, person_id in enumerate(list(interactions_test_indexed_df.index.unique().values)):\n",
        "#             if idx % 100 == 0 and idx > 0:\n",
        "#                print('%d users processed'.format( idx))\n",
        "            person_metrics = self.evaluate_model_for_user(model, person_id)  \n",
        "            person_metrics['_person_id'] = person_id\n",
        "            people_metrics.append(person_metrics)\n",
        "        print('%d users processed'.format( idx))\n",
        "\n",
        "        detailed_results_df = pd.DataFrame(people_metrics) \\\n",
        "                            .sort_values('interacted_count', ascending=False)\n",
        "        \n",
        "        global_recall_at_5 = detailed_results_df['hits@5_count'].sum() / float(detailed_results_df['interacted_count'].sum())\n",
        "        global_recall_at_10 = detailed_results_df['hits@10_count'].sum() / float(detailed_results_df['interacted_count'].sum())\n",
        "        \n",
        "        global_metrics = {'modelName': model.get_model_name(),\n",
        "                          'recall@5': global_recall_at_5,\n",
        "                          'recall@10': global_recall_at_10}    \n",
        "        return global_metrics, detailed_results_df\n",
        "    \n",
        "model_evaluator = ModelEvaluator()    "
      ],
      "metadata": {
        "_cell_guid": "0e0639e7-4041-473d-a090-cd0087ce92c3",
        "_uuid": "c9612b159a8d626fe986586230b829ce2e93aff7",
        "execution": {
          "iopub.status.busy": "2023-01-08T14:39:04.511743Z",
          "iopub.execute_input": "2023-01-08T14:39:04.512090Z",
          "iopub.status.idle": "2023-01-08T14:39:04.533572Z",
          "shell.execute_reply.started": "2023-01-08T14:39:04.512026Z",
          "shell.execute_reply": "2023-01-08T14:39:04.530265Z"
        },
        "trusted": true,
        "id": "QOC5R5es-CjN"
      },
      "execution_count": null,
      "outputs": []
    },
    {
      "cell_type": "code",
      "source": [
        "new_df['tags'] = new_df['tags'].str.replace('\\d+', '')\n"
      ],
      "metadata": {
        "execution": {
          "iopub.status.busy": "2023-01-08T14:39:25.006466Z",
          "iopub.execute_input": "2023-01-08T14:39:25.006854Z",
          "iopub.status.idle": "2023-01-08T14:39:40.931072Z",
          "shell.execute_reply.started": "2023-01-08T14:39:25.006806Z",
          "shell.execute_reply": "2023-01-08T14:39:40.929954Z"
        },
        "trusted": true,
        "id": "WOkXgwQf-CjP"
      },
      "execution_count": null,
      "outputs": []
    },
    {
      "cell_type": "code",
      "source": [
        "stopwords_list = stopwords.words('english') \n",
        "\n",
        "vectorizer = TfidfVectorizer(analyzer='word',\n",
        "                     min_df=0.003,\n",
        "                     max_df=0.5,\n",
        "                     max_features=5000,\n",
        "                     stop_words=stopwords_list)\n",
        "\n",
        "item_ids = crawled_courses_information['name'].tolist()\n",
        "tfidf_matrix2 = vectorizer.fit_transform(new_df['tags'])\n",
        "tfidf_feature_names2 = vectorizer.get_feature_names()\n",
        "tfidf_matrix2"
      ],
      "metadata": {
        "execution": {
          "iopub.status.busy": "2023-01-08T14:39:47.375988Z",
          "iopub.execute_input": "2023-01-08T14:39:47.376484Z",
          "iopub.status.idle": "2023-01-08T14:40:55.804151Z",
          "shell.execute_reply.started": "2023-01-08T14:39:47.376410Z",
          "shell.execute_reply": "2023-01-08T14:40:55.803228Z"
        },
        "trusted": true,
        "id": "sM06yMiO-CjQ"
      },
      "execution_count": null,
      "outputs": []
    },
    {
      "cell_type": "code",
      "source": [
        "from nltk.stem.porter import PorterStemmer\n",
        "ps = PorterStemmer()\n",
        "#defining the stemming function\n",
        "def stem(text):\n",
        "    y=[]\n",
        "    \n",
        "    for i in text.split():\n",
        "        y.append(ps.stem(i))\n",
        "    \n",
        "    return \" \".join(y)\n",
        "interactions_train_indexed_df['tags'] = interactions_train_indexed_df['tags'].apply(stem) #applying stemming on the tags column\n"
      ],
      "metadata": {
        "execution": {
          "iopub.status.busy": "2022-11-28T02:33:10.270947Z",
          "iopub.execute_input": "2022-11-28T02:33:10.271312Z",
          "iopub.status.idle": "2022-11-28T02:34:08.819612Z",
          "shell.execute_reply.started": "2022-11-28T02:33:10.271253Z",
          "shell.execute_reply": "2022-11-28T02:34:08.818722Z"
        },
        "trusted": true,
        "id": "_lmM3q54-CjQ"
      },
      "execution_count": null,
      "outputs": []
    },
    {
      "cell_type": "code",
      "source": [
        "new_df['tags'] = new_df['tags'].apply(stem) #applying stemming on the tags column\n"
      ],
      "metadata": {
        "execution": {
          "iopub.status.busy": "2022-11-28T02:49:54.395286Z",
          "iopub.execute_input": "2022-11-28T02:49:54.395598Z",
          "iopub.status.idle": "2022-11-28T03:22:05.701937Z",
          "shell.execute_reply.started": "2022-11-28T02:49:54.395545Z",
          "shell.execute_reply": "2022-11-28T03:22:05.700913Z"
        },
        "trusted": true,
        "id": "R-0CjyuE-CjR"
      },
      "execution_count": null,
      "outputs": []
    },
    {
      "cell_type": "code",
      "source": [
        "new_df['tags']"
      ],
      "metadata": {
        "execution": {
          "iopub.status.busy": "2022-12-19T20:07:40.693948Z",
          "iopub.execute_input": "2022-12-19T20:07:40.694331Z",
          "iopub.status.idle": "2022-12-19T20:07:40.722153Z",
          "shell.execute_reply.started": "2022-12-19T20:07:40.694257Z",
          "shell.execute_reply": "2022-12-19T20:07:40.720227Z"
        },
        "trusted": true,
        "id": "QY1UrSLF-CjR"
      },
      "execution_count": null,
      "outputs": []
    },
    {
      "cell_type": "code",
      "source": [
        "tfidf_matrix2.shape"
      ],
      "metadata": {
        "execution": {
          "iopub.status.busy": "2023-01-08T14:42:10.560979Z",
          "iopub.execute_input": "2023-01-08T14:42:10.561356Z",
          "iopub.status.idle": "2023-01-08T14:42:10.567444Z",
          "shell.execute_reply.started": "2023-01-08T14:42:10.561294Z",
          "shell.execute_reply": "2023-01-08T14:42:10.566275Z"
        },
        "trusted": true,
        "id": "ao24S5Nt-CjR"
      },
      "execution_count": null,
      "outputs": []
    },
    {
      "cell_type": "code",
      "source": [
        "def get_item_profile(item_id):\n",
        "    idx = item_ids.index(item_id)\n",
        "    item_profile = tfidf_matrix2[idx:idx+1]\n",
        "    return item_profile\n",
        "\n",
        "def get_item_profiles(ids):\n",
        "    item_profiles_list = [get_item_profile(x) for x in ids]\n",
        "    item_profiles = scipy.sparse.vstack(item_profiles_list)\n",
        "    return item_profiles\n",
        "\n",
        "def build_users_profile(person_id, interactions_indexed_df):\n",
        "    interactions_person_df = interactions_indexed_df.loc[person_id]\n",
        "    user_item_profiles = get_item_profiles(interactions_person_df['course_name'])\n",
        "    \n",
        "    user_item_strengths = np.array(new_df['rating']).reshape(-1,1)\n",
        "#     Weighted average of item profiles by the interactions strength\n",
        "#     user_item_strengths_weighted_avg = np.sum(user_item_profiles.multiply(user_item_strengths), axis=0) / np.sum(user_item_strengths)\n",
        "    user_profile_norm = sklearn.preprocessing.normalize(user_item_strengths)\n",
        "    return user_profile_norm\n",
        "\n",
        "def build_users_profiles(): \n",
        "    interactions_indexed_df = interactions_from_selected_users_df[interactions_from_selected_users_df['course_name'] \\\n",
        "                                                   .isin(courses['name'])].set_index('reviewers')\n",
        "    user_profiles = {}\n",
        "    for person_id in interactions_indexed_df.index.unique():\n",
        "        user_profiles[person_id] = build_users_profile(person_id, interactions_indexed_df)\n",
        "    return user_profiles"
      ],
      "metadata": {
        "_cell_guid": "62a5d822-9673-46ab-9e81-343006fed1c8",
        "_uuid": "52abadb8d20d8f42a9d6ca64cf061ad6e50e6f95",
        "execution": {
          "iopub.status.busy": "2023-01-08T14:42:19.391646Z",
          "iopub.execute_input": "2023-01-08T14:42:19.391982Z",
          "iopub.status.idle": "2023-01-08T14:42:19.401544Z",
          "shell.execute_reply.started": "2023-01-08T14:42:19.391925Z",
          "shell.execute_reply": "2023-01-08T14:42:19.400250Z"
        },
        "trusted": true,
        "id": "z5Yo1UWP-CjS"
      },
      "execution_count": null,
      "outputs": []
    },
    {
      "cell_type": "code",
      "source": [
        "user_profiles = build_users_profiles()\n",
        "len(user_profiles)"
      ],
      "metadata": {
        "_cell_guid": "4a390c44-8d4a-40c9-8d09-e7423bb60e96",
        "_uuid": "4b115474b476319c74e1bf84c0d8edf9f8fc4229",
        "execution": {
          "iopub.status.busy": "2023-01-08T14:42:24.639794Z",
          "iopub.execute_input": "2023-01-08T14:42:24.640142Z",
          "iopub.status.idle": "2023-01-08T14:42:38.157233Z",
          "shell.execute_reply.started": "2023-01-08T14:42:24.640058Z",
          "shell.execute_reply": "2023-01-08T14:42:38.156239Z"
        },
        "trusted": true,
        "id": "hsRfU5wn-CjS"
      },
      "execution_count": null,
      "outputs": []
    },
    {
      "cell_type": "code",
      "source": [
        "class ContentBasedRecommender:\n",
        "    \n",
        "    MODEL_NAME = 'Content-Based'\n",
        "    \n",
        "    def __init__(self, items_df=None):\n",
        "        self.item_ids = item_ids\n",
        "        self.items_df = items_df\n",
        "        \n",
        "    def get_model_name(self):\n",
        "        return self.MODEL_NAME\n",
        "        \n",
        "    def _get_similar_items_to_user_profile(self, person_id, topn=1000):\n",
        "        #Computes the cosine similarity between the user profile and all item profiles\n",
        "        cosine_similarities = cosine_similarity(user_profiles[person_id].transpose(), tfidf_matrix2.transpose())\n",
        "        #Gets the top similar items\n",
        "        similar_indices = cosine_similarities.argsort().flatten()[-topn:]\n",
        "        #Sort the similar items by similarity\n",
        "        similar_items = sorted([(item_ids[i], cosine_similarities[0,i]) for i in similar_indices], key=lambda x: -x[1])\n",
        "        return similar_items\n",
        "        \n",
        "    def recommend_items(self, user_id, items_to_ignore=[], topn=10, verbose=False):\n",
        "        similar_items = self._get_similar_items_to_user_profile(user_id)\n",
        "        #Ignores items the user has already interacted\n",
        "        similar_items_filtered = list(filter(lambda x: x[0] not in items_to_ignore, similar_items))\n",
        "        \n",
        "        recommendations_df = pd.DataFrame(similar_items_filtered, columns=['course_name', 'recStrength']) \\\n",
        "                                    .head(topn)\n",
        "\n",
        "        if verbose:\n",
        "            if self.items_df is None:\n",
        "                raise Exception('\"items_df\" is required in verbose mode')\n",
        "\n",
        "            recommendations_df = recommendations_df.merge(self.items_df, how = 'left', \n",
        "                                                          left_on = 'course_name', \n",
        "                                                          right_on = 'course_name')[['recStrength', 'course_name']]\n",
        "\n",
        "\n",
        "        return recommendations_df\n",
        "    \n",
        "content_based_recommender_model = ContentBasedRecommender(crawled_courses_information)"
      ],
      "metadata": {
        "_cell_guid": "e82114b3-a382-4590-a89c-9c3ccb79bde7",
        "_uuid": "06a8f67de0c9ed4d0ac426e6e56f168900cbfe28",
        "execution": {
          "iopub.status.busy": "2023-01-08T15:17:01.885818Z",
          "iopub.execute_input": "2023-01-08T15:17:01.886211Z",
          "iopub.status.idle": "2023-01-08T15:17:01.897561Z",
          "shell.execute_reply.started": "2023-01-08T15:17:01.886129Z",
          "shell.execute_reply": "2023-01-08T15:17:01.896507Z"
        },
        "trusted": true,
        "id": "k7E0glD3-CjS"
      },
      "execution_count": null,
      "outputs": []
    },
    {
      "cell_type": "code",
      "source": [
        "print('Evaluating Content-Based Filtering model...')\n",
        "cb_global_metrics, cb_detailed_results_df = model_evaluator.evaluate_model(content_based_recommender_model)\n",
        "print('Global metrics:',(cb_global_metrics))\n",
        "cb_detailed_results_df.head(10)"
      ],
      "metadata": {
        "execution": {
          "iopub.status.busy": "2023-01-08T14:42:44.841670Z",
          "iopub.execute_input": "2023-01-08T14:42:44.842007Z",
          "iopub.status.idle": "2023-01-08T14:59:07.604064Z",
          "shell.execute_reply.started": "2023-01-08T14:42:44.841949Z",
          "shell.execute_reply": "2023-01-08T14:59:07.603108Z"
        },
        "trusted": true,
        "id": "H8pjJmMV-CjS"
      },
      "execution_count": null,
      "outputs": []
    },
    {
      "cell_type": "code",
      "source": [
        "#Word2vec\n",
        "from gensim.models import Word2Vec\n",
        "from gensim.models.phrases import Phrases, Phraser\n",
        "from matplotlib import pyplot\n",
        "from gensim.models import KeyedVectors\n",
        "import gensim.downloader as api\n",
        "import gensim"
      ],
      "metadata": {
        "execution": {
          "iopub.status.busy": "2023-01-08T15:10:02.062865Z",
          "iopub.execute_input": "2023-01-08T15:10:02.063362Z",
          "iopub.status.idle": "2023-01-08T15:10:03.125999Z",
          "shell.execute_reply.started": "2023-01-08T15:10:02.063298Z",
          "shell.execute_reply": "2023-01-08T15:10:03.125044Z"
        },
        "trusted": true,
        "id": "ocgonci4-CjT"
      },
      "execution_count": null,
      "outputs": []
    },
    {
      "cell_type": "code",
      "source": [
        "import gensim.downloader as api\n",
        "path = api.load(\"word2vec-google-news-300\", return_path=True)\n",
        "print(path)"
      ],
      "metadata": {
        "execution": {
          "iopub.status.busy": "2022-12-19T17:41:41.051353Z",
          "iopub.execute_input": "2022-12-19T17:41:41.051704Z",
          "iopub.status.idle": "2022-12-19T17:44:48.718104Z",
          "shell.execute_reply.started": "2022-12-19T17:41:41.051649Z",
          "shell.execute_reply": "2022-12-19T17:44:48.716978Z"
        },
        "trusted": true,
        "id": "JxBSmcsS-CjT"
      },
      "execution_count": null,
      "outputs": []
    },
    {
      "cell_type": "code",
      "source": [
        "tags_new=new_df.tags.apply(gensim.utils.simple_preprocess)\n",
        "tags_new"
      ],
      "metadata": {
        "execution": {
          "iopub.status.busy": "2022-12-20T09:32:34.592577Z",
          "iopub.execute_input": "2022-12-20T09:32:34.592894Z",
          "iopub.status.idle": "2022-12-20T09:34:41.459128Z",
          "shell.execute_reply.started": "2022-12-20T09:32:34.592839Z",
          "shell.execute_reply": "2022-12-20T09:34:41.458390Z"
        },
        "trusted": true,
        "id": "ZOyzxIYP-CjT"
      },
      "execution_count": null,
      "outputs": []
    },
    {
      "cell_type": "code",
      "source": [
        "# Model parameters\n",
        "model=gensim.models.Word2Vec(window=5, min_count=2, workers=4, sg=0)\n",
        "\n",
        "# Train the model\n",
        "# model.build_vocab(tags_new, progress_per=1000)\n",
        "# model.train(tags_new, total_examples=model.corpus_count, epochs=model.epochs)\n",
        "\n",
        "# Save the trained model\n",
        "# model.save(\"./kaggle/working\")"
      ],
      "metadata": {
        "execution": {
          "iopub.status.busy": "2022-12-20T10:25:14.544278Z",
          "iopub.execute_input": "2022-12-20T10:25:14.544623Z",
          "iopub.status.idle": "2022-12-20T10:25:14.550957Z",
          "shell.execute_reply.started": "2022-12-20T10:25:14.544570Z",
          "shell.execute_reply": "2022-12-20T10:25:14.549304Z"
        },
        "trusted": true,
        "id": "16z9Dpnq-CjU"
      },
      "execution_count": null,
      "outputs": []
    },
    {
      "cell_type": "code",
      "source": [
        "model.save(\"/kaggle/working/tags.model\")"
      ],
      "metadata": {
        "execution": {
          "iopub.status.busy": "2022-12-20T09:43:44.206531Z",
          "iopub.execute_input": "2022-12-20T09:43:44.206855Z",
          "iopub.status.idle": "2022-12-20T09:43:44.301134Z",
          "shell.execute_reply.started": "2022-12-20T09:43:44.206802Z",
          "shell.execute_reply": "2022-12-20T09:43:44.300279Z"
        },
        "trusted": true,
        "id": "J6vKRdNf-CjU"
      },
      "execution_count": null,
      "outputs": []
    },
    {
      "cell_type": "code",
      "source": [
        "# model = Word2Vec.load('/kaggle/working/tags.model')"
      ],
      "metadata": {
        "execution": {
          "iopub.status.busy": "2022-12-20T10:27:51.792691Z",
          "iopub.execute_input": "2022-12-20T10:27:51.793052Z",
          "iopub.status.idle": "2022-12-20T10:27:52.019411Z",
          "shell.execute_reply.started": "2022-12-20T10:27:51.792998Z",
          "shell.execute_reply": "2022-12-20T10:27:52.018667Z"
        },
        "trusted": true,
        "id": "yjfXE80h-CjU"
      },
      "execution_count": null,
      "outputs": []
    },
    {
      "cell_type": "code",
      "source": [
        "    # Creating a list for storing the vectors (description into vectors)\n",
        "    global word_embeddings\n",
        "    word_embeddings = []\n",
        "\n",
        "    # Reading the each book description \n",
        "    for line in new_df['tags']:\n",
        "        avgword2vec = None\n",
        "        count = 0\n",
        "        for word in line.split():\n",
        "            if word in model.wv.vocab:\n",
        "                count += 1\n",
        "                if avgword2vec is None:\n",
        "                    avgword2vec = model[word]\n",
        "                else:\n",
        "                    avgword2vec = avgword2vec + model[word]\n",
        "                \n",
        "        if avgword2vec is not None:\n",
        "            avgword2vec = avgword2vec / count\n",
        "        \n",
        "            word_embeddings.append(avgword2vec)"
      ],
      "metadata": {
        "execution": {
          "iopub.status.busy": "2022-12-20T10:28:04.418376Z",
          "iopub.execute_input": "2022-12-20T10:28:04.418715Z",
          "iopub.status.idle": "2022-12-20T10:35:36.660191Z",
          "shell.execute_reply.started": "2022-12-20T10:28:04.418664Z",
          "shell.execute_reply": "2022-12-20T10:35:36.659070Z"
        },
        "trusted": true,
        "id": "vl-nsGTT-CjU"
      },
      "execution_count": null,
      "outputs": []
    },
    {
      "cell_type": "code",
      "source": [
        "with open('word_embeddings.txt', 'w') as f:\n",
        "    for line in word_embeddings:\n",
        "        f.write(f\"{line}\\n\")"
      ],
      "metadata": {
        "execution": {
          "iopub.status.busy": "2022-12-19T21:06:28.778584Z",
          "iopub.execute_input": "2022-12-19T21:06:28.778918Z",
          "iopub.status.idle": "2022-12-19T21:14:27.778710Z",
          "shell.execute_reply.started": "2022-12-19T21:06:28.778863Z",
          "shell.execute_reply": "2022-12-19T21:14:27.777823Z"
        },
        "trusted": true,
        "id": "Wjodpipz-CjV"
      },
      "execution_count": null,
      "outputs": []
    },
    {
      "cell_type": "code",
      "source": [
        "word2vec = np.array(word_embeddings)"
      ],
      "metadata": {
        "execution": {
          "iopub.status.busy": "2022-12-20T10:38:48.985754Z",
          "iopub.execute_input": "2022-12-20T10:38:48.986065Z",
          "iopub.status.idle": "2022-12-20T10:38:49.218353Z",
          "shell.execute_reply.started": "2022-12-20T10:38:48.986013Z",
          "shell.execute_reply": "2022-12-20T10:38:49.217367Z"
        },
        "trusted": true,
        "id": "Ldc79iwm-CjV"
      },
      "execution_count": null,
      "outputs": []
    },
    {
      "cell_type": "code",
      "source": [
        "def get_item_profile(item_id):\n",
        "    idx = item_ids.index(item_id)\n",
        "    item_profile = word2vec[idx:idx+1]\n",
        "    return item_profile\n",
        "\n",
        "def get_item_profiles(ids):\n",
        "    item_profiles_list = [get_item_profile(x) for x in ids]\n",
        "    item_profiles = scipy.sparse.vstack(item_profiles_list)\n",
        "    return item_profiles\n",
        "\n",
        "def build_users_profile(person_id, interactions_indexed_df):\n",
        "    interactions_person_df = interactions_indexed_df.loc[person_id]\n",
        "    user_item_profiles = get_item_profiles(interactions_person_df['course_name'])\n",
        "    \n",
        "    user_item_strengths = np.array(new_df['rating']).reshape(-1,1)\n",
        "#     Weighted average of item profiles by the interactions strength\n",
        "#     user_item_strengths_weighted_avg = np.sum(user_item_profiles.multiply(user_item_strengths), axis=0) / np.sum(user_item_strengths)\n",
        "    user_profile_norm = sklearn.preprocessing.normalize(user_item_strengths)\n",
        "    return user_profile_norm\n",
        "\n",
        "def build_users_profiles(): \n",
        "    interactions_indexed_df = interactions_from_selected_users_df[interactions_from_selected_users_df['course_name'] \\\n",
        "                                                   .isin(courses['name'])].set_index('reviewers')\n",
        "    user_profiles = {}\n",
        "    for person_id in interactions_indexed_df.index.unique():\n",
        "        user_profiles[person_id] = build_users_profile(person_id, interactions_indexed_df)\n",
        "    return user_profiles"
      ],
      "metadata": {
        "execution": {
          "iopub.status.busy": "2022-12-20T10:04:56.614295Z",
          "iopub.execute_input": "2022-12-20T10:04:56.614634Z",
          "iopub.status.idle": "2022-12-20T10:04:56.694529Z",
          "shell.execute_reply.started": "2022-12-20T10:04:56.614580Z",
          "shell.execute_reply": "2022-12-20T10:04:56.693444Z"
        },
        "trusted": true,
        "id": "tM8WQD29-CjV"
      },
      "execution_count": null,
      "outputs": []
    },
    {
      "cell_type": "code",
      "source": [
        "class ContentBasedRecommender:\n",
        "    \n",
        "    MODEL_NAME = 'Content-Based'\n",
        "#     vectors(new_df)\n",
        "    def __init__(self, items_df=None):\n",
        "        self.item_ids = item_ids\n",
        "        self.items_df = items_df\n",
        "        \n",
        "    def get_model_name(self):\n",
        "        return self.MODEL_NAME\n",
        "        \n",
        "    def _get_similar_items_to_user_profile(self, person_id, topn=1000):\n",
        "        #Computes the cosine similarity between the user profile and all item profiles\n",
        "        cosine_similarities = cosine_similarity(user_profiles[person_id].transpose(), word2vec.transpose())\n",
        "        #Gets the top similar items\n",
        "        similar_indices = cosine_similarities.argsort().flatten()[-topn:]\n",
        "        #Sort the similar items by similarity\n",
        "        similar_items = sorted([(item_ids[i], cosine_similarities[0,i]) for i in similar_indices], key=lambda x: -x[1])\n",
        "        return similar_items\n",
        "        \n",
        "    def recommend_items(self, user_id, items_to_ignore=[], topn=10, verbose=False):\n",
        "        similar_items = self._get_similar_items_to_user_profile(user_id)\n",
        "        #Ignores items the user has already interacted\n",
        "        similar_items_filtered = list(filter(lambda x: x[0] not in items_to_ignore, similar_items))\n",
        "        \n",
        "        recommendations_df = pd.DataFrame(similar_items_filtered, columns=['course_name', 'recStrength']) \\\n",
        "                                    .head(topn)\n",
        "\n",
        "        if verbose:\n",
        "            if self.items_df is None:\n",
        "                raise Exception('\"items_df\" is required in verbose mode')\n",
        "\n",
        "#             recommendations_df = recommendations_df.merge(self.items_df, how = 'left', \n",
        "#                                                           left_on = 'course_name', \n",
        "#                                                           right_on = 'course_name')[['recStrength', 'course_name']]\n",
        "\n",
        "\n",
        "        return recommendations_df\n",
        "    \n",
        "content_based_recommender_model = ContentBasedRecommender(crawled_courses_information)"
      ],
      "metadata": {
        "execution": {
          "iopub.status.busy": "2023-01-08T15:15:45.904021Z",
          "iopub.execute_input": "2023-01-08T15:15:45.904427Z",
          "iopub.status.idle": "2023-01-08T15:15:45.916526Z",
          "shell.execute_reply.started": "2023-01-08T15:15:45.904366Z",
          "shell.execute_reply": "2023-01-08T15:15:45.915559Z"
        },
        "trusted": true,
        "id": "EKHpHt5J-CjV"
      },
      "execution_count": null,
      "outputs": []
    },
    {
      "cell_type": "code",
      "source": [
        "print('Evaluating Content-Based Filtering model...')\n",
        "cb_global_metrics, cb_detailed_results_df = model_evaluator.evaluate_model(content_based_recommender_model)\n",
        "print('Global metrics:',(cb_global_metrics))\n",
        "cb_detailed_results_df.head(10)"
      ],
      "metadata": {
        "execution": {
          "iopub.status.busy": "2022-12-20T11:02:49.329960Z",
          "iopub.execute_input": "2022-12-20T11:02:49.330272Z",
          "iopub.status.idle": "2022-12-20T11:02:49.540141Z",
          "shell.execute_reply.started": "2022-12-20T11:02:49.330215Z",
          "shell.execute_reply": "2022-12-20T11:02:49.538848Z"
        },
        "trusted": true,
        "id": "nMU0N0hv-CjW"
      },
      "execution_count": null,
      "outputs": []
    },
    {
      "cell_type": "code",
      "source": [
        "crawled_courses_information.rename( columns = {'name':'course_name'}, inplace=True)"
      ],
      "metadata": {
        "execution": {
          "iopub.status.busy": "2023-01-08T15:17:12.711294Z",
          "iopub.execute_input": "2023-01-08T15:17:12.711638Z",
          "iopub.status.idle": "2023-01-08T15:17:12.720697Z",
          "shell.execute_reply.started": "2023-01-08T15:17:12.711578Z",
          "shell.execute_reply": "2023-01-08T15:17:12.719653Z"
        },
        "trusted": true,
        "id": "0Tnrlfdx-CjW"
      },
      "execution_count": null,
      "outputs": []
    },
    {
      "cell_type": "code",
      "source": [
        "def inspect_interactions(person_id, test_set=True):\n",
        "    if test_set:\n",
        "        interactions_df = interactions_test_indexed_df\n",
        "    else:\n",
        "        interactions_df = interactions_train_indexed_df\n",
        "    return interactions_df.loc[person_id].merge(crawled_courses_information, how = 'left', \n",
        "                                                      left_on = 'course_name', \n",
        "                                                      right_on = 'course_name') \\\n",
        "                          .sort_values('rating', ascending = False)[['rating', \n",
        "                                                                          'course_name',\n",
        "                                                                          'category']]"
      ],
      "metadata": {
        "_cell_guid": "07d07d66-1092-4316-a852-d5895d364737",
        "_uuid": "5dad675fe82c4008691ac140e5e57fe29544a940",
        "execution": {
          "iopub.status.busy": "2023-01-08T15:17:14.091077Z",
          "iopub.execute_input": "2023-01-08T15:17:14.091450Z",
          "iopub.status.idle": "2023-01-08T15:17:14.098066Z",
          "shell.execute_reply.started": "2023-01-08T15:17:14.091391Z",
          "shell.execute_reply": "2023-01-08T15:17:14.097059Z"
        },
        "trusted": true,
        "id": "jj_B5j_d-CjX"
      },
      "execution_count": null,
      "outputs": []
    },
    {
      "cell_type": "code",
      "source": [
        "inspect_interactions('By Vivek B', test_set=False).head(20)"
      ],
      "metadata": {
        "_cell_guid": "ec962ce2-0593-4d29-8383-57dc9e785589",
        "_uuid": "d850f080e3a24aab664c10f7ab1a9eb3dc5bed39",
        "execution": {
          "iopub.status.busy": "2023-01-08T15:17:16.507164Z",
          "iopub.execute_input": "2023-01-08T15:17:16.507525Z",
          "iopub.status.idle": "2023-01-08T15:17:16.537656Z",
          "shell.execute_reply.started": "2023-01-08T15:17:16.507468Z",
          "shell.execute_reply": "2023-01-08T15:17:16.536951Z"
        },
        "trusted": true,
        "id": "82ZUwtmq-CjX"
      },
      "execution_count": null,
      "outputs": []
    },
    {
      "cell_type": "code",
      "source": [
        "content_based_recommender_model.recommend_items('By Vivek B', topn=20, verbose=True)"
      ],
      "metadata": {
        "_cell_guid": "71944eb4-51ee-4e23-8643-ef2abe83822e",
        "_uuid": "af890f5ca9b3ae92bfdb51e61af6d5737aaf8e56",
        "execution": {
          "iopub.status.busy": "2023-01-08T15:17:19.487013Z",
          "iopub.execute_input": "2023-01-08T15:17:19.487376Z",
          "iopub.status.idle": "2023-01-08T15:17:20.460939Z",
          "shell.execute_reply.started": "2023-01-08T15:17:19.487314Z",
          "shell.execute_reply": "2023-01-08T15:17:20.459848Z"
        },
        "trusted": true,
        "id": "Oxr0rUVR-CjX"
      },
      "execution_count": null,
      "outputs": []
    }
  ]
}